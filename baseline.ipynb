{
 "cells": [
  {
   "cell_type": "markdown",
   "id": "dc0f30e9-e500-46b3-8626-7a84a3f4813c",
   "metadata": {},
   "source": [
    "## Implementamos un baseline basado en las últimas vistas de cada usuario"
   ]
  },
  {
   "cell_type": "code",
   "execution_count": 1,
   "id": "87f56d6b-5abd-4857-b7ca-5037482096e5",
   "metadata": {},
   "outputs": [],
   "source": [
    "import numpy as np\n",
    "import pandas as pd\n",
    "import matplotlib.pyplot as plt\n",
    "import seaborn as sns\n",
    "import os\n",
    "import json\n",
    "import random\n",
    "from datetime import datetime"
   ]
  },
  {
   "cell_type": "code",
   "execution_count": 2,
   "id": "1ddc7c8d-85a3-41b2-903e-8110abaaacbc",
   "metadata": {},
   "outputs": [],
   "source": [
    "train_file = 'train_dataset.jl'\n",
    "item_file = 'item_data.jl'\n",
    "\n",
    "train_data = pd.read_json(train_file, lines=True, nrows=3000, orient='columns')\n",
    "#item_data = pd.read_json(item_file, lines=True, orient='columns')"
   ]
  },
  {
   "cell_type": "code",
   "execution_count": 3,
   "id": "934e1e0a-76ac-4f06-a836-c3cf5b65f28f",
   "metadata": {},
   "outputs": [
    {
     "data": {
      "text/html": [
       "<div>\n",
       "<style scoped>\n",
       "    .dataframe tbody tr th:only-of-type {\n",
       "        vertical-align: middle;\n",
       "    }\n",
       "\n",
       "    .dataframe tbody tr th {\n",
       "        vertical-align: top;\n",
       "    }\n",
       "\n",
       "    .dataframe thead th {\n",
       "        text-align: right;\n",
       "    }\n",
       "</style>\n",
       "<table border=\"1\" class=\"dataframe\">\n",
       "  <thead>\n",
       "    <tr style=\"text-align: right;\">\n",
       "      <th></th>\n",
       "      <th>user_history</th>\n",
       "      <th>item_bought</th>\n",
       "    </tr>\n",
       "  </thead>\n",
       "  <tbody>\n",
       "    <tr>\n",
       "      <th>0</th>\n",
       "      <td>[{'event_info': 1786148, 'event_timestamp': '2...</td>\n",
       "      <td>1748830</td>\n",
       "    </tr>\n",
       "    <tr>\n",
       "      <th>1</th>\n",
       "      <td>[{'event_info': 643652, 'event_timestamp': '20...</td>\n",
       "      <td>228737</td>\n",
       "    </tr>\n",
       "  </tbody>\n",
       "</table>\n",
       "</div>"
      ],
      "text/plain": [
       "                                        user_history  item_bought\n",
       "0  [{'event_info': 1786148, 'event_timestamp': '2...      1748830\n",
       "1  [{'event_info': 643652, 'event_timestamp': '20...       228737"
      ]
     },
     "execution_count": 3,
     "metadata": {},
     "output_type": "execute_result"
    }
   ],
   "source": [
    "train_data.head(2)"
   ]
  },
  {
   "cell_type": "code",
   "execution_count": 4,
   "id": "ac1287c3-b4a7-462c-8cbb-e5340e4189ef",
   "metadata": {},
   "outputs": [],
   "source": [
    "# Esta función sirve para acomodar el archivo json en algo tabular\n",
    "\n",
    "def preprocess_hist(df):\n",
    "    df['user_view']= pd.Series(dtype='object')\n",
    "    df['timestamps']= pd.Series(dtype='object')\n",
    "    df['user_search']= pd.Series(dtype='object')\n",
    "    df['search_timestamps']= pd.Series(dtype='object')\n",
    "\n",
    "    for i in df.index:\n",
    "        lista_view=[]\n",
    "        lista_time=[]\n",
    "        lista_search=[]\n",
    "        lista_search_t=[]\n",
    "        for item in df.user_history[i]:\n",
    "            if item['event_type'] =='view':\n",
    "                lista_view.append(int(item['event_info']))\n",
    "                time_string=item['event_timestamp'].replace(\"T\", \" \").split('.')[0]\n",
    "                timestamp=datetime.timestamp(datetime.strptime(time_string, '%Y-%m-%d %H:%M:%S'))\n",
    "                lista_time.append(int(timestamp))\n",
    "            if item['event_type'] =='search':\n",
    "                lista_search.append(item['event_info'])\n",
    "                time_string=item['event_timestamp'].replace(\"T\", \" \").split('.')[0]\n",
    "                timestamp=datetime.timestamp(datetime.strptime(time_string, '%Y-%m-%d %H:%M:%S'))\n",
    "                lista_search_t.append(int(timestamp))\n",
    "\n",
    "        df.at[i,'user_view']= lista_view\n",
    "        df.at[i,'timestamps']= lista_time\n",
    "\n",
    "        df.at[i,'user_search']= lista_search\n",
    "        df.at[i,'search_timestamps']= lista_search_t\n",
    "    return df"
   ]
  },
  {
   "cell_type": "code",
   "execution_count": 5,
   "id": "112be481-e7c6-4f3e-a45e-a7ff3bd90760",
   "metadata": {},
   "outputs": [
    {
     "data": {
      "text/html": [
       "<div>\n",
       "<style scoped>\n",
       "    .dataframe tbody tr th:only-of-type {\n",
       "        vertical-align: middle;\n",
       "    }\n",
       "\n",
       "    .dataframe tbody tr th {\n",
       "        vertical-align: top;\n",
       "    }\n",
       "\n",
       "    .dataframe thead th {\n",
       "        text-align: right;\n",
       "    }\n",
       "</style>\n",
       "<table border=\"1\" class=\"dataframe\">\n",
       "  <thead>\n",
       "    <tr style=\"text-align: right;\">\n",
       "      <th></th>\n",
       "      <th>item_bought</th>\n",
       "      <th>user_view</th>\n",
       "      <th>timestamps</th>\n",
       "      <th>user_search</th>\n",
       "      <th>search_timestamps</th>\n",
       "    </tr>\n",
       "  </thead>\n",
       "  <tbody>\n",
       "    <tr>\n",
       "      <th>0</th>\n",
       "      <td>1748830</td>\n",
       "      <td>[1786148, 1786148, 1615991, 1615991, 1615991, ...</td>\n",
       "      <td>[1571495142, 1571495157, 1571495246, 157149531...</td>\n",
       "      <td>[RELOGIO SMARTWATCH]</td>\n",
       "      <td>[1571495167]</td>\n",
       "    </tr>\n",
       "    <tr>\n",
       "      <th>1</th>\n",
       "      <td>228737</td>\n",
       "      <td>[643652, 1156086, 1943604, 206667, 1282813, 22...</td>\n",
       "      <td>[1570395773, 1570452367, 1570452473, 157048520...</td>\n",
       "      <td>[DESMAMADEIRA ELETRICA, DESMAMADEIRA ELETRICA,...</td>\n",
       "      <td>[1570452329, 1570452377, 1570452379, 157048520...</td>\n",
       "    </tr>\n",
       "    <tr>\n",
       "      <th>2</th>\n",
       "      <td>1909110</td>\n",
       "      <td>[248595, 248595]</td>\n",
       "      <td>[1569944763, 1569946910]</td>\n",
       "      <td>[]</td>\n",
       "      <td>[]</td>\n",
       "    </tr>\n",
       "    <tr>\n",
       "      <th>3</th>\n",
       "      <td>1197370</td>\n",
       "      <td>[505541, 505541, 505541, 505541, 505541, 12300...</td>\n",
       "      <td>[1570562646, 1570562756, 1570562775, 157056280...</td>\n",
       "      <td>[RADIOBOSS, RADIOBOSS, SOUND FORGE, SOUND FORG...</td>\n",
       "      <td>[1570562631, 1570584752, 1570728776, 157088525...</td>\n",
       "    </tr>\n",
       "  </tbody>\n",
       "</table>\n",
       "</div>"
      ],
      "text/plain": [
       "   item_bought                                          user_view  \\\n",
       "0      1748830  [1786148, 1786148, 1615991, 1615991, 1615991, ...   \n",
       "1       228737  [643652, 1156086, 1943604, 206667, 1282813, 22...   \n",
       "2      1909110                                   [248595, 248595]   \n",
       "3      1197370  [505541, 505541, 505541, 505541, 505541, 12300...   \n",
       "\n",
       "                                          timestamps  \\\n",
       "0  [1571495142, 1571495157, 1571495246, 157149531...   \n",
       "1  [1570395773, 1570452367, 1570452473, 157048520...   \n",
       "2                           [1569944763, 1569946910]   \n",
       "3  [1570562646, 1570562756, 1570562775, 157056280...   \n",
       "\n",
       "                                         user_search  \\\n",
       "0                               [RELOGIO SMARTWATCH]   \n",
       "1  [DESMAMADEIRA ELETRICA, DESMAMADEIRA ELETRICA,...   \n",
       "2                                                 []   \n",
       "3  [RADIOBOSS, RADIOBOSS, SOUND FORGE, SOUND FORG...   \n",
       "\n",
       "                                   search_timestamps  \n",
       "0                                       [1571495167]  \n",
       "1  [1570452329, 1570452377, 1570452379, 157048520...  \n",
       "2                                                 []  \n",
       "3  [1570562631, 1570584752, 1570728776, 157088525...  "
      ]
     },
     "execution_count": 5,
     "metadata": {},
     "output_type": "execute_result"
    }
   ],
   "source": [
    "# Apligo la función preprocess_hist a la train part\n",
    "train_data = preprocess_hist(train_data)\n",
    "train_data.drop('user_history', axis=1, inplace=True)\n",
    "train_data.head(4)"
   ]
  },
  {
   "cell_type": "markdown",
   "id": "fe674dd5",
   "metadata": {},
   "source": [
    "#### Importamos los metadatos"
   ]
  },
  {
   "cell_type": "code",
   "execution_count": 6,
   "id": "98286c16",
   "metadata": {},
   "outputs": [],
   "source": [
    "def jl_to_list(fname):\n",
    "    output = []\n",
    "    with open(fname) as f:\n",
    "        for line in f:\n",
    "            output.append(json.loads(line))\n",
    "    return output\n",
    "\n",
    "\n",
    "item_data = jl_to_list('item_data.jl')\n",
    "metadata = {x['item_id']:x for x in item_data}\n",
    "all_items = list(metadata.keys())\n",
    "#metadata"
   ]
  },
  {
   "cell_type": "markdown",
   "id": "ea0a3af1",
   "metadata": {},
   "source": [
    "#### Definimos la métrica que usaremos"
   ]
  },
  {
   "cell_type": "code",
   "execution_count": 7,
   "id": "9120278f",
   "metadata": {},
   "outputs": [],
   "source": [
    "def ndcg(y_pred, y_true):\n",
    "    'Basada en el video de la presentación del challenge'\n",
    "    dcg = 0\n",
    "    idcg = 22.42461597 * len(y_true)\n",
    "    for pred, true in zip(y_pred, y_true):\n",
    "        position = 1\n",
    "        for item in pred:\n",
    "            if item == true:\n",
    "                dcg += 12 / (np.log(1 + position))\n",
    "            elif metadata[item]['domain_id'] == metadata[true]['domain_id']:\n",
    "                dcg += 1 / (np.log(1 + position))\n",
    "            position += 1\n",
    "    score = dcg / idcg\n",
    "    \n",
    "    return score"
   ]
  },
  {
   "cell_type": "markdown",
   "id": "e3c9c000",
   "metadata": {},
   "source": [
    "#### Implementación del baseline basado en los últimos views de un usuario\n",
    "\n",
    "Un usuario entra a la plataforma, mira 7 artículos (algunos o todos podrían estar repetidos) y finalmente compra uno. La idea es recomendarle 10 artículos en su próxima visita a la plataforma. Cómo lo hacemos?\n",
    "\n",
    "El baseline simplemente se basa en recomendarle, en su proxima visita, esos mismos 7 artículos que miró antes (descartando los que estuvieran repetidos) más otros 3 artículos elegidos aleatoriamente (o la cantidad necesaria hasta completar 10 artículos). No ordenamos los artículos recomendados por \"últimos artículos vistos\" y los artículos elegidos aleatoriamente son elegidos dentro de todo el data set (no sólo dentro de la categoría a la cual pertenece el item comprado). En caso de que el usuario haya visto más de 10 artículos simplemente nos quedamos con 10 de ellos en el orden en que fueron cargados al dataset.\n",
    "\n",
    "La selección aleatoria la hacemos siempre con el mismo seed para procurar la reproducibilidad del experimento."
   ]
  },
  {
   "cell_type": "code",
   "execution_count": 8,
   "id": "c1190b54",
   "metadata": {},
   "outputs": [],
   "source": [
    "def baseline_row(row,df,n_items=10):\n",
    "    'Hacemos la recomendación para cada item comprado (row)'\n",
    "    viewed = list(dict.fromkeys(df[\"user_view\"][row])) # descartamos los views repetidos\n",
    "    \n",
    "    if len(viewed) == n_items:\n",
    "        return viewed\n",
    "    elif len(viewed) > n_items:\n",
    "        return viewed[:n_items]\n",
    "    else:\n",
    "        random.seed(123)\n",
    "        return viewed + random.choices(list(train_data[\"item_bought\"]),k=n_items-len(viewed))\n",
    "    baseline(2,train_data)"
   ]
  },
  {
   "cell_type": "code",
   "execution_count": 9,
   "id": "231fd716",
   "metadata": {},
   "outputs": [],
   "source": [
    "from sklearn.model_selection import train_test_split\n",
    "X, y = train_data.drop(columns=[\"item_bought\"]), train_data[\"item_bought\"]\n",
    "X_train, X_test, y_train, y_test = train_test_split(X, y, test_size=0.2, random_state=0)\n",
    "\n",
    "X_train = X_train.reset_index(drop=True)\n",
    "X_test = X_test.reset_index(drop=True)\n",
    "y_train = y_train.reset_index(drop=True)\n",
    "y_test = y_test.reset_index(drop=True)"
   ]
  },
  {
   "cell_type": "code",
   "execution_count": 10,
   "id": "14cef7c0",
   "metadata": {},
   "outputs": [],
   "source": [
    "def baseline():\n",
    "    'Recomendación para todos los items comprados'\n",
    "    y_pred = []\n",
    "    for row in range(len(X_test)):\n",
    "        recom = baseline_row(row,X_test)\n",
    "        y_pred.append(recom)\n",
    "    return y_pred    \n",
    "\n",
    "y_pred = baseline()"
   ]
  },
  {
   "cell_type": "markdown",
   "id": "714591aa",
   "metadata": {},
   "source": [
    "#### Veamos el score"
   ]
  },
  {
   "cell_type": "code",
   "execution_count": 11,
   "id": "a56fff49",
   "metadata": {},
   "outputs": [
    {
     "name": "stdout",
     "output_type": "stream",
     "text": [
      "Score: 0.16049504552784666\n"
     ]
    }
   ],
   "source": [
    "score = ndcg(y_pred,y_test)\n",
    "print('Score:', score)"
   ]
  },
  {
   "cell_type": "code",
   "execution_count": null,
   "id": "868e6dcb",
   "metadata": {},
   "outputs": [],
   "source": []
  }
 ],
 "metadata": {
  "kernelspec": {
   "display_name": "Python 3",
   "language": "python",
   "name": "python3"
  },
  "language_info": {
   "codemirror_mode": {
    "name": "ipython",
    "version": 3
   },
   "file_extension": ".py",
   "mimetype": "text/x-python",
   "name": "python",
   "nbconvert_exporter": "python",
   "pygments_lexer": "ipython3",
   "version": "3.8.8"
  }
 },
 "nbformat": 4,
 "nbformat_minor": 5
}
