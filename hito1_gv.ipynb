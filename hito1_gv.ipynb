{
 "cells": [
  {
   "cell_type": "markdown",
   "id": "dc0f30e9-e500-46b3-8626-7a84a3f4813c",
   "metadata": {},
   "source": [
    "## En este primer hito queremos responder las siguientes preguntas:\n",
    "- ¿Que cantidad de ítems únicos conforman mi target?\n",
    "\n",
    "- ¿Cuántos ítems mira un usuario antes de realizar una compra?\n",
    "\n",
    "- ¿Cuántas búsquedas realiza un usuario antes de realizar una compra?\n",
    "\n",
    "- ¿Qué proporción de los ítems vistos corresponden a la categoría del ítem finalmente comprado?\n",
    "\n",
    "- ¿Cuántas categorías recorre un usuario hasta comprar un item?\n",
    "\n",
    "- ¿Cómo se relacionan los precios de los ítems vistos con el ítem comprado?\n",
    "\n",
    "- ¿Cuántas veces aparece el ítem comprado en nuestro historial de navega"
   ]
  },
  {
   "cell_type": "code",
   "execution_count": 1,
   "id": "87f56d6b-5abd-4857-b7ca-5037482096e5",
   "metadata": {},
   "outputs": [],
   "source": [
    "import numpy as np\n",
    "import pandas as pd\n",
    "import matplotlib.pyplot as plt\n",
    "import seaborn as sns\n",
    "import os\n",
    "from datetime import datetime"
   ]
  },
  {
   "cell_type": "code",
   "execution_count": 2,
   "id": "1ddc7c8d-85a3-41b2-903e-8110abaaacbc",
   "metadata": {},
   "outputs": [],
   "source": [
    "train_file = 'train_dataset.jl'\n",
    "item_file = 'item_data.jl'\n",
    "\n",
    "train_data = pd.read_json(train_file, lines=True, nrows=3000, orient='columns')\n",
    "item_data = pd.read_json(item_file, lines=True, orient='columns')"
   ]
  },
  {
   "cell_type": "code",
   "execution_count": 3,
   "id": "934e1e0a-76ac-4f06-a836-c3cf5b65f28f",
   "metadata": {},
   "outputs": [
    {
     "data": {
      "text/html": [
       "<div>\n",
       "<style scoped>\n",
       "    .dataframe tbody tr th:only-of-type {\n",
       "        vertical-align: middle;\n",
       "    }\n",
       "\n",
       "    .dataframe tbody tr th {\n",
       "        vertical-align: top;\n",
       "    }\n",
       "\n",
       "    .dataframe thead th {\n",
       "        text-align: right;\n",
       "    }\n",
       "</style>\n",
       "<table border=\"1\" class=\"dataframe\">\n",
       "  <thead>\n",
       "    <tr style=\"text-align: right;\">\n",
       "      <th></th>\n",
       "      <th>user_history</th>\n",
       "      <th>item_bought</th>\n",
       "    </tr>\n",
       "  </thead>\n",
       "  <tbody>\n",
       "    <tr>\n",
       "      <th>0</th>\n",
       "      <td>[{'event_info': 1786148, 'event_timestamp': '2...</td>\n",
       "      <td>1748830</td>\n",
       "    </tr>\n",
       "    <tr>\n",
       "      <th>1</th>\n",
       "      <td>[{'event_info': 643652, 'event_timestamp': '20...</td>\n",
       "      <td>228737</td>\n",
       "    </tr>\n",
       "  </tbody>\n",
       "</table>\n",
       "</div>"
      ],
      "text/plain": [
       "                                        user_history  item_bought\n",
       "0  [{'event_info': 1786148, 'event_timestamp': '2...      1748830\n",
       "1  [{'event_info': 643652, 'event_timestamp': '20...       228737"
      ]
     },
     "execution_count": 3,
     "metadata": {},
     "output_type": "execute_result"
    }
   ],
   "source": [
    "train_data.head(2)"
   ]
  },
  {
   "cell_type": "code",
   "execution_count": 4,
   "id": "ef719bd5-9faa-403b-987b-e65eb85ea4df",
   "metadata": {},
   "outputs": [
    {
     "data": {
      "text/html": [
       "<div>\n",
       "<style scoped>\n",
       "    .dataframe tbody tr th:only-of-type {\n",
       "        vertical-align: middle;\n",
       "    }\n",
       "\n",
       "    .dataframe tbody tr th {\n",
       "        vertical-align: top;\n",
       "    }\n",
       "\n",
       "    .dataframe thead th {\n",
       "        text-align: right;\n",
       "    }\n",
       "</style>\n",
       "<table border=\"1\" class=\"dataframe\">\n",
       "  <thead>\n",
       "    <tr style=\"text-align: right;\">\n",
       "      <th></th>\n",
       "      <th>item_id</th>\n",
       "      <th>title</th>\n",
       "      <th>domain_id</th>\n",
       "      <th>product_id</th>\n",
       "      <th>price</th>\n",
       "      <th>category_id</th>\n",
       "      <th>condition</th>\n",
       "    </tr>\n",
       "  </thead>\n",
       "  <tbody>\n",
       "    <tr>\n",
       "      <th>0</th>\n",
       "      <td>111260</td>\n",
       "      <td>Casa Sola En Venta Con Gran Patio Solo Pago De...</td>\n",
       "      <td>MLM-INDIVIDUAL_HOUSES_FOR_SALE</td>\n",
       "      <td>NaN</td>\n",
       "      <td>1150000.00</td>\n",
       "      <td>MLM170527</td>\n",
       "      <td>new</td>\n",
       "    </tr>\n",
       "    <tr>\n",
       "      <th>1</th>\n",
       "      <td>871377</td>\n",
       "      <td>Resident Evil Origins Collection Nintendo Swit...</td>\n",
       "      <td>MLM-VIDEO_GAMES</td>\n",
       "      <td>15270800.0</td>\n",
       "      <td>1392.83</td>\n",
       "      <td>MLM151595</td>\n",
       "      <td>new</td>\n",
       "    </tr>\n",
       "  </tbody>\n",
       "</table>\n",
       "</div>"
      ],
      "text/plain": [
       "   item_id                                              title  \\\n",
       "0   111260  Casa Sola En Venta Con Gran Patio Solo Pago De...   \n",
       "1   871377  Resident Evil Origins Collection Nintendo Swit...   \n",
       "\n",
       "                        domain_id  product_id       price category_id  \\\n",
       "0  MLM-INDIVIDUAL_HOUSES_FOR_SALE         NaN  1150000.00   MLM170527   \n",
       "1                 MLM-VIDEO_GAMES  15270800.0     1392.83   MLM151595   \n",
       "\n",
       "  condition  \n",
       "0       new  \n",
       "1       new  "
      ]
     },
     "execution_count": 4,
     "metadata": {},
     "output_type": "execute_result"
    }
   ],
   "source": [
    "item_data.head(2)"
   ]
  },
  {
   "cell_type": "code",
   "execution_count": 5,
   "id": "ac1287c3-b4a7-462c-8cbb-e5340e4189ef",
   "metadata": {},
   "outputs": [],
   "source": [
    "# Esta función sirve para acomodar el archivo json en algo tabular\n",
    "\n",
    "def preprocess_hist(df):\n",
    "    df['user_view']= pd.Series(dtype='object')\n",
    "    df['timestamps']= pd.Series(dtype='object')\n",
    "    df['user_search']= pd.Series(dtype='object')\n",
    "    df['search_timestamps']= pd.Series(dtype='object')\n",
    "\n",
    "    for i in df.index:\n",
    "        lista_view=[]\n",
    "        lista_time=[]\n",
    "        lista_search=[]\n",
    "        lista_search_t=[]\n",
    "        for item in df.user_history[i]:\n",
    "            if item['event_type'] =='view':\n",
    "                lista_view.append(int(item['event_info']))\n",
    "                time_string=item['event_timestamp'].replace(\"T\", \" \").split('.')[0]\n",
    "                timestamp=datetime.timestamp(datetime.strptime(time_string, '%Y-%m-%d %H:%M:%S'))\n",
    "                lista_time.append(int(timestamp))\n",
    "            if item['event_type'] =='search':\n",
    "                lista_search.append(item['event_info'])\n",
    "                time_string=item['event_timestamp'].replace(\"T\", \" \").split('.')[0]\n",
    "                timestamp=datetime.timestamp(datetime.strptime(time_string, '%Y-%m-%d %H:%M:%S'))\n",
    "                lista_search_t.append(int(timestamp))\n",
    "\n",
    "        df.at[i,'user_view']= lista_view\n",
    "        df.at[i,'timestamps']= lista_time\n",
    "\n",
    "        df.at[i,'user_search']= lista_search\n",
    "        df.at[i,'search_timestamps']= lista_search_t\n",
    "    return df"
   ]
  },
  {
   "cell_type": "code",
   "execution_count": 6,
   "id": "112be481-e7c6-4f3e-a45e-a7ff3bd90760",
   "metadata": {},
   "outputs": [
    {
     "data": {
      "text/html": [
       "<div>\n",
       "<style scoped>\n",
       "    .dataframe tbody tr th:only-of-type {\n",
       "        vertical-align: middle;\n",
       "    }\n",
       "\n",
       "    .dataframe tbody tr th {\n",
       "        vertical-align: top;\n",
       "    }\n",
       "\n",
       "    .dataframe thead th {\n",
       "        text-align: right;\n",
       "    }\n",
       "</style>\n",
       "<table border=\"1\" class=\"dataframe\">\n",
       "  <thead>\n",
       "    <tr style=\"text-align: right;\">\n",
       "      <th></th>\n",
       "      <th>item_bought</th>\n",
       "      <th>user_view</th>\n",
       "      <th>timestamps</th>\n",
       "      <th>user_search</th>\n",
       "      <th>search_timestamps</th>\n",
       "    </tr>\n",
       "  </thead>\n",
       "  <tbody>\n",
       "    <tr>\n",
       "      <th>0</th>\n",
       "      <td>1748830</td>\n",
       "      <td>[1786148, 1786148, 1615991, 1615991, 1615991, ...</td>\n",
       "      <td>[1571495142, 1571495157, 1571495246, 157149531...</td>\n",
       "      <td>[RELOGIO SMARTWATCH]</td>\n",
       "      <td>[1571495167]</td>\n",
       "    </tr>\n",
       "    <tr>\n",
       "      <th>1</th>\n",
       "      <td>228737</td>\n",
       "      <td>[643652, 1156086, 1943604, 206667, 1282813, 22...</td>\n",
       "      <td>[1570395773, 1570452367, 1570452473, 157048520...</td>\n",
       "      <td>[DESMAMADEIRA ELETRICA, DESMAMADEIRA ELETRICA,...</td>\n",
       "      <td>[1570452329, 1570452377, 1570452379, 157048520...</td>\n",
       "    </tr>\n",
       "    <tr>\n",
       "      <th>2</th>\n",
       "      <td>1909110</td>\n",
       "      <td>[248595, 248595]</td>\n",
       "      <td>[1569944763, 1569946910]</td>\n",
       "      <td>[]</td>\n",
       "      <td>[]</td>\n",
       "    </tr>\n",
       "    <tr>\n",
       "      <th>3</th>\n",
       "      <td>1197370</td>\n",
       "      <td>[505541, 505541, 505541, 505541, 505541, 12300...</td>\n",
       "      <td>[1570562646, 1570562756, 1570562775, 157056280...</td>\n",
       "      <td>[RADIOBOSS, RADIOBOSS, SOUND FORGE, SOUND FORG...</td>\n",
       "      <td>[1570562631, 1570584752, 1570728776, 157088525...</td>\n",
       "    </tr>\n",
       "  </tbody>\n",
       "</table>\n",
       "</div>"
      ],
      "text/plain": [
       "   item_bought                                          user_view  \\\n",
       "0      1748830  [1786148, 1786148, 1615991, 1615991, 1615991, ...   \n",
       "1       228737  [643652, 1156086, 1943604, 206667, 1282813, 22...   \n",
       "2      1909110                                   [248595, 248595]   \n",
       "3      1197370  [505541, 505541, 505541, 505541, 505541, 12300...   \n",
       "\n",
       "                                          timestamps  \\\n",
       "0  [1571495142, 1571495157, 1571495246, 157149531...   \n",
       "1  [1570395773, 1570452367, 1570452473, 157048520...   \n",
       "2                           [1569944763, 1569946910]   \n",
       "3  [1570562646, 1570562756, 1570562775, 157056280...   \n",
       "\n",
       "                                         user_search  \\\n",
       "0                               [RELOGIO SMARTWATCH]   \n",
       "1  [DESMAMADEIRA ELETRICA, DESMAMADEIRA ELETRICA,...   \n",
       "2                                                 []   \n",
       "3  [RADIOBOSS, RADIOBOSS, SOUND FORGE, SOUND FORG...   \n",
       "\n",
       "                                   search_timestamps  \n",
       "0                                       [1571495167]  \n",
       "1  [1570452329, 1570452377, 1570452379, 157048520...  \n",
       "2                                                 []  \n",
       "3  [1570562631, 1570584752, 1570728776, 157088525...  "
      ]
     },
     "execution_count": 6,
     "metadata": {},
     "output_type": "execute_result"
    }
   ],
   "source": [
    "# Apligo la función preprocess_hist a la train part\n",
    "train_data = preprocess_hist(train_data)\n",
    "train_data.drop('user_history', axis=1, inplace=True)\n",
    "train_data.head(4)"
   ]
  },
  {
   "cell_type": "code",
   "execution_count": 7,
   "id": "49a9d1a3-0bf2-4811-a177-e5bd32be0938",
   "metadata": {},
   "outputs": [
    {
     "data": {
      "text/html": [
       "<div>\n",
       "<style scoped>\n",
       "    .dataframe tbody tr th:only-of-type {\n",
       "        vertical-align: middle;\n",
       "    }\n",
       "\n",
       "    .dataframe tbody tr th {\n",
       "        vertical-align: top;\n",
       "    }\n",
       "\n",
       "    .dataframe thead th {\n",
       "        text-align: right;\n",
       "    }\n",
       "</style>\n",
       "<table border=\"1\" class=\"dataframe\">\n",
       "  <thead>\n",
       "    <tr style=\"text-align: right;\">\n",
       "      <th></th>\n",
       "      <th>item_bought</th>\n",
       "      <th>user_view</th>\n",
       "      <th>timestamps</th>\n",
       "      <th>user_search</th>\n",
       "      <th>search_timestamps</th>\n",
       "      <th>bought_title</th>\n",
       "      <th>bought_domain_id</th>\n",
       "      <th>bought_price</th>\n",
       "      <th>bought_category_id</th>\n",
       "      <th>bought_condition</th>\n",
       "    </tr>\n",
       "  </thead>\n",
       "  <tbody>\n",
       "    <tr>\n",
       "      <th>0</th>\n",
       "      <td>1748830</td>\n",
       "      <td>[1786148, 1786148, 1615991, 1615991, 1615991, ...</td>\n",
       "      <td>[1571495142, 1571495157, 1571495246, 157149531...</td>\n",
       "      <td>[RELOGIO SMARTWATCH]</td>\n",
       "      <td>[1571495167]</td>\n",
       "      <td>Relógio Medidor Inteligente Pulso Freqüência C...</td>\n",
       "      <td>MLB-SMARTWATCHES</td>\n",
       "      <td>90.0</td>\n",
       "      <td>MLB135384</td>\n",
       "      <td>0.0</td>\n",
       "    </tr>\n",
       "    <tr>\n",
       "      <th>1</th>\n",
       "      <td>228737</td>\n",
       "      <td>[643652, 1156086, 1943604, 206667, 1282813, 22...</td>\n",
       "      <td>[1570395773, 1570452367, 1570452473, 157048520...</td>\n",
       "      <td>[DESMAMADEIRA ELETRICA, DESMAMADEIRA ELETRICA,...</td>\n",
       "      <td>[1570452329, 1570452377, 1570452379, 157048520...</td>\n",
       "      <td>Bomba Eletrica Tira Leite Materno Bivolt G-tech</td>\n",
       "      <td>MLB-MILK_EXTRACTORS</td>\n",
       "      <td>169.0</td>\n",
       "      <td>MLB264021</td>\n",
       "      <td>0.0</td>\n",
       "    </tr>\n",
       "  </tbody>\n",
       "</table>\n",
       "</div>"
      ],
      "text/plain": [
       "   item_bought                                          user_view  \\\n",
       "0      1748830  [1786148, 1786148, 1615991, 1615991, 1615991, ...   \n",
       "1       228737  [643652, 1156086, 1943604, 206667, 1282813, 22...   \n",
       "\n",
       "                                          timestamps  \\\n",
       "0  [1571495142, 1571495157, 1571495246, 157149531...   \n",
       "1  [1570395773, 1570452367, 1570452473, 157048520...   \n",
       "\n",
       "                                         user_search  \\\n",
       "0                               [RELOGIO SMARTWATCH]   \n",
       "1  [DESMAMADEIRA ELETRICA, DESMAMADEIRA ELETRICA,...   \n",
       "\n",
       "                                   search_timestamps  \\\n",
       "0                                       [1571495167]   \n",
       "1  [1570452329, 1570452377, 1570452379, 157048520...   \n",
       "\n",
       "                                        bought_title     bought_domain_id  \\\n",
       "0  Relógio Medidor Inteligente Pulso Freqüência C...     MLB-SMARTWATCHES   \n",
       "1    Bomba Eletrica Tira Leite Materno Bivolt G-tech  MLB-MILK_EXTRACTORS   \n",
       "\n",
       "   bought_price bought_category_id  bought_condition  \n",
       "0          90.0          MLB135384               0.0  \n",
       "1         169.0          MLB264021               0.0  "
      ]
     },
     "execution_count": 7,
     "metadata": {},
     "output_type": "execute_result"
    }
   ],
   "source": [
    "# Agrego la columna item_bought al train_data\n",
    "rename_dict = {\n",
    "    'title': 'bought_title', 'domain_id': 'bought_domain_id', 'price': 'bought_price',\n",
    "    'category_id': 'bought_category_id', 'condition': 'bought_condition'\n",
    "}\n",
    "\n",
    "# remove/change two columns from item data\n",
    "item_data['condition'] = item_data.condition.map({'new': 0, 'used': 1, 'not_specified': 2})\n",
    "item_data.drop('product_id', axis=1, inplace=True)\n",
    "\n",
    "# merge on item_bought id\n",
    "train_data = train_data.merge(item_data, left_on='item_bought', right_on='item_id', how='left')\n",
    "train_data = train_data.drop('item_id', axis=1).rename(rename_dict, axis=1)\n",
    "train_data.head(2)"
   ]
  },
  {
   "cell_type": "code",
   "execution_count": 8,
   "id": "8f7fa733-619d-4f7a-88f7-798a86225916",
   "metadata": {},
   "outputs": [
    {
     "data": {
      "text/html": [
       "<div>\n",
       "<style scoped>\n",
       "    .dataframe tbody tr th:only-of-type {\n",
       "        vertical-align: middle;\n",
       "    }\n",
       "\n",
       "    .dataframe tbody tr th {\n",
       "        vertical-align: top;\n",
       "    }\n",
       "\n",
       "    .dataframe thead th {\n",
       "        text-align: right;\n",
       "    }\n",
       "</style>\n",
       "<table border=\"1\" class=\"dataframe\">\n",
       "  <thead>\n",
       "    <tr style=\"text-align: right;\">\n",
       "      <th></th>\n",
       "      <th>row_id</th>\n",
       "      <th>item_bought</th>\n",
       "      <th>user_view</th>\n",
       "      <th>timestamps</th>\n",
       "      <th>bought_title</th>\n",
       "      <th>bought_domain_id</th>\n",
       "      <th>bought_price</th>\n",
       "      <th>bought_category_id</th>\n",
       "      <th>bought_condition</th>\n",
       "      <th>title</th>\n",
       "      <th>domain_id</th>\n",
       "      <th>price</th>\n",
       "      <th>category_id</th>\n",
       "      <th>condition</th>\n",
       "    </tr>\n",
       "  </thead>\n",
       "  <tbody>\n",
       "    <tr>\n",
       "      <th>0</th>\n",
       "      <td>0</td>\n",
       "      <td>1748830</td>\n",
       "      <td>1786148</td>\n",
       "      <td>1571495142</td>\n",
       "      <td>Relógio Medidor Inteligente Pulso Freqüência C...</td>\n",
       "      <td>MLB-SMARTWATCHES</td>\n",
       "      <td>90.0</td>\n",
       "      <td>MLB135384</td>\n",
       "      <td>0.0</td>\n",
       "      <td>Relógio Inteligente Smartwatch Gt08 Touch Scre...</td>\n",
       "      <td>MLB-SMARTWATCHES</td>\n",
       "      <td>119.99</td>\n",
       "      <td>MLB135384</td>\n",
       "      <td>0.0</td>\n",
       "    </tr>\n",
       "    <tr>\n",
       "      <th>1</th>\n",
       "      <td>0</td>\n",
       "      <td>1748830</td>\n",
       "      <td>1786148</td>\n",
       "      <td>1571495157</td>\n",
       "      <td>Relógio Medidor Inteligente Pulso Freqüência C...</td>\n",
       "      <td>MLB-SMARTWATCHES</td>\n",
       "      <td>90.0</td>\n",
       "      <td>MLB135384</td>\n",
       "      <td>0.0</td>\n",
       "      <td>Relógio Inteligente Smartwatch Gt08 Touch Scre...</td>\n",
       "      <td>MLB-SMARTWATCHES</td>\n",
       "      <td>119.99</td>\n",
       "      <td>MLB135384</td>\n",
       "      <td>0.0</td>\n",
       "    </tr>\n",
       "  </tbody>\n",
       "</table>\n",
       "</div>"
      ],
      "text/plain": [
       "   row_id  item_bought user_view  timestamps  \\\n",
       "0       0      1748830   1786148  1571495142   \n",
       "1       0      1748830   1786148  1571495157   \n",
       "\n",
       "                                        bought_title  bought_domain_id  \\\n",
       "0  Relógio Medidor Inteligente Pulso Freqüência C...  MLB-SMARTWATCHES   \n",
       "1  Relógio Medidor Inteligente Pulso Freqüência C...  MLB-SMARTWATCHES   \n",
       "\n",
       "   bought_price bought_category_id  bought_condition  \\\n",
       "0          90.0          MLB135384               0.0   \n",
       "1          90.0          MLB135384               0.0   \n",
       "\n",
       "                                               title         domain_id  \\\n",
       "0  Relógio Inteligente Smartwatch Gt08 Touch Scre...  MLB-SMARTWATCHES   \n",
       "1  Relógio Inteligente Smartwatch Gt08 Touch Scre...  MLB-SMARTWATCHES   \n",
       "\n",
       "    price category_id  condition  \n",
       "0  119.99   MLB135384        0.0  \n",
       "1  119.99   MLB135384        0.0  "
      ]
     },
     "execution_count": 8,
     "metadata": {},
     "output_type": "execute_result"
    }
   ],
   "source": [
    "def melt_views(df):\n",
    "    views = df[[c for c in df.columns if c != 'user_search' and c != 'search_timestamps']]\n",
    "    views = views.reset_index().rename({'index': 'row_id'}, axis=1)\n",
    "\n",
    "    views = views.set_index(['row_id']).apply(pd.Series.explode).reset_index()\n",
    "    views = views[~views.user_view.isna()]  # remove purchases with no previous views\n",
    "    return views.merge(item_data, left_on='user_view', right_on='item_id', how='left').drop('item_id', axis=1)\n",
    "\n",
    "views_data = melt_views(train_data)\n",
    "views_data.head(2)"
   ]
  },
  {
   "cell_type": "code",
   "execution_count": 9,
   "id": "e533553d-3959-4171-a297-965e9a81fcf5",
   "metadata": {},
   "outputs": [
    {
     "data": {
      "text/plain": [
       "((42379, 14), (2102277, 6))"
      ]
     },
     "execution_count": 9,
     "metadata": {},
     "output_type": "execute_result"
    }
   ],
   "source": [
    "views_data.shape, item_data.shape"
   ]
  },
  {
   "cell_type": "code",
   "execution_count": 10,
   "id": "183aa09a-3814-4240-9c32-d16ba7385255",
   "metadata": {},
   "outputs": [
    {
     "data": {
      "text/plain": [
       "item_id        2102277\n",
       "title          1925296\n",
       "domain_id         7893\n",
       "price           120768\n",
       "category_id      11493\n",
       "condition            3\n",
       "dtype: int64"
      ]
     },
     "execution_count": 10,
     "metadata": {},
     "output_type": "execute_result"
    }
   ],
   "source": [
    "item_data.nunique()"
   ]
  },
  {
   "cell_type": "code",
   "execution_count": 11,
   "id": "d48883fe-2564-48a8-955b-8339079c4772",
   "metadata": {},
   "outputs": [
    {
     "data": {
      "text/plain": [
       "<AxesSubplot:xlabel='user_view', ylabel='Count'>"
      ]
     },
     "execution_count": 11,
     "metadata": {},
     "output_type": "execute_result"
    },
    {
     "data": {
      "image/png": "[encoded data removed]",
      "text/plain": [
       "<Figure size 864x576 with 1 Axes>"
      ]
     },
     "metadata": {
      "needs_background": "light"
     },
     "output_type": "display_data"
    }
   ],
   "source": [
    "number_of_views = views_data.groupby('row_id')['user_view'].count()\n",
    "fig = plt.figure(figsize=(12,8))\n",
    "sns.histplot(data=views_data, x=number_of_views, bins=100)"
   ]
  },
  {
   "cell_type": "code",
   "execution_count": 12,
   "id": "8b5b7060-b892-4387-b05c-5f6723585582",
   "metadata": {},
   "outputs": [
    {
     "name": "stdout",
     "output_type": "stream",
     "text": [
      "Mean views = 15.135357142857142\n",
      "Median views = 8.0\n",
      "Std views = 19.757042509042922\n",
      "Min views = 1\n",
      "Max views = 201\n"
     ]
    }
   ],
   "source": [
    "mean_views = number_of_views.mean()\n",
    "median_views = number_of_views.median()\n",
    "std_views = number_of_views.std()\n",
    "min_views = number_of_views.min()\n",
    "max_views = number_of_views.max()\n",
    "print(f'Mean views = {mean_views}\\nMedian views = {median_views}\\nStd views = {std_views}\\nMin views = {min_views}\\nMax views = {max_views}')"
   ]
  },
  {
   "cell_type": "code",
   "execution_count": 13,
   "id": "756e0bb0-e706-4ef7-9b2c-4c303896286d",
   "metadata": {},
   "outputs": [
    {
     "data": {
      "text/plain": [
       "<AxesSubplot:xlabel='user_view'>"
      ]
     },
     "execution_count": 13,
     "metadata": {},
     "output_type": "execute_result"
    },
    {
     "data": {
      "image/png": "[encoded data removed]",
      "text/plain": [
       "<Figure size 864x576 with 1 Axes>"
      ]
     },
     "metadata": {
      "needs_background": "light"
     },
     "output_type": "display_data"
    }
   ],
   "source": [
    "fig = plt.figure(figsize=(12,8))\n",
    "sns.boxplot(data=views_data, x=number_of_views)"
   ]
  },
  {
   "cell_type": "code",
   "execution_count": 14,
   "id": "bda3d479-950d-4f0a-b0a4-ca4fbfc8611d",
   "metadata": {},
   "outputs": [
    {
     "data": {
      "text/html": [
       "<div>\n",
       "<style scoped>\n",
       "    .dataframe tbody tr th:only-of-type {\n",
       "        vertical-align: middle;\n",
       "    }\n",
       "\n",
       "    .dataframe tbody tr th {\n",
       "        vertical-align: top;\n",
       "    }\n",
       "\n",
       "    .dataframe thead th {\n",
       "        text-align: right;\n",
       "    }\n",
       "</style>\n",
       "<table border=\"1\" class=\"dataframe\">\n",
       "  <thead>\n",
       "    <tr style=\"text-align: right;\">\n",
       "      <th></th>\n",
       "      <th>row_id</th>\n",
       "      <th>item_bought</th>\n",
       "      <th>user_view</th>\n",
       "      <th>timestamps</th>\n",
       "      <th>bought_title</th>\n",
       "      <th>bought_domain_id</th>\n",
       "      <th>bought_price</th>\n",
       "      <th>bought_category_id</th>\n",
       "      <th>bought_condition</th>\n",
       "      <th>title</th>\n",
       "      <th>domain_id</th>\n",
       "      <th>price</th>\n",
       "      <th>category_id</th>\n",
       "      <th>condition</th>\n",
       "      <th>view_count</th>\n",
       "    </tr>\n",
       "  </thead>\n",
       "  <tbody>\n",
       "    <tr>\n",
       "      <th>0</th>\n",
       "      <td>0</td>\n",
       "      <td>1748830</td>\n",
       "      <td>1786148</td>\n",
       "      <td>1571495142</td>\n",
       "      <td>Relógio Medidor Inteligente Pulso Freqüência C...</td>\n",
       "      <td>MLB-SMARTWATCHES</td>\n",
       "      <td>90.0</td>\n",
       "      <td>MLB135384</td>\n",
       "      <td>0.0</td>\n",
       "      <td>Relógio Inteligente Smartwatch Gt08 Touch Scre...</td>\n",
       "      <td>MLB-SMARTWATCHES</td>\n",
       "      <td>119.99</td>\n",
       "      <td>MLB135384</td>\n",
       "      <td>0.0</td>\n",
       "      <td>18</td>\n",
       "    </tr>\n",
       "    <tr>\n",
       "      <th>1</th>\n",
       "      <td>0</td>\n",
       "      <td>1748830</td>\n",
       "      <td>1786148</td>\n",
       "      <td>1571495157</td>\n",
       "      <td>Relógio Medidor Inteligente Pulso Freqüência C...</td>\n",
       "      <td>MLB-SMARTWATCHES</td>\n",
       "      <td>90.0</td>\n",
       "      <td>MLB135384</td>\n",
       "      <td>0.0</td>\n",
       "      <td>Relógio Inteligente Smartwatch Gt08 Touch Scre...</td>\n",
       "      <td>MLB-SMARTWATCHES</td>\n",
       "      <td>119.99</td>\n",
       "      <td>MLB135384</td>\n",
       "      <td>0.0</td>\n",
       "      <td>18</td>\n",
       "    </tr>\n",
       "  </tbody>\n",
       "</table>\n",
       "</div>"
      ],
      "text/plain": [
       "   row_id  item_bought user_view  timestamps  \\\n",
       "0       0      1748830   1786148  1571495142   \n",
       "1       0      1748830   1786148  1571495157   \n",
       "\n",
       "                                        bought_title  bought_domain_id  \\\n",
       "0  Relógio Medidor Inteligente Pulso Freqüência C...  MLB-SMARTWATCHES   \n",
       "1  Relógio Medidor Inteligente Pulso Freqüência C...  MLB-SMARTWATCHES   \n",
       "\n",
       "   bought_price bought_category_id  bought_condition  \\\n",
       "0          90.0          MLB135384               0.0   \n",
       "1          90.0          MLB135384               0.0   \n",
       "\n",
       "                                               title         domain_id  \\\n",
       "0  Relógio Inteligente Smartwatch Gt08 Touch Scre...  MLB-SMARTWATCHES   \n",
       "1  Relógio Inteligente Smartwatch Gt08 Touch Scre...  MLB-SMARTWATCHES   \n",
       "\n",
       "    price category_id  condition  view_count  \n",
       "0  119.99   MLB135384        0.0          18  \n",
       "1  119.99   MLB135384        0.0          18  "
      ]
     },
     "execution_count": 14,
     "metadata": {},
     "output_type": "execute_result"
    }
   ],
   "source": [
    "# agrego una columna con los counts de user_view\n",
    "views_data['view_count'] = views_data.groupby('row_id')['user_view'].transform('count')\n",
    "views_data.head(2)"
   ]
  },
  {
   "cell_type": "code",
   "execution_count": 15,
   "id": "307679d2-7605-4f85-8f93-87c55ed4bb38",
   "metadata": {},
   "outputs": [],
   "source": [
    "# Ahora voy a limpiar los outliers de user_view\n",
    "def clean_outlier(dataset, column_name):\n",
    "    interesting_col = dataset[column_name]\n",
    "    mask_outlier = (\n",
    "        np.abs(interesting_col - interesting_col.mean()) <= (2.5 * interesting_col.std()))\n",
    "    return dataset[mask_outlier]"
   ]
  },
  {
   "cell_type": "code",
   "execution_count": 16,
   "id": "d2e95870-56ed-4240-bff4-1cdf286044ea",
   "metadata": {},
   "outputs": [
    {
     "name": "stdout",
     "output_type": "stream",
     "text": [
      "Después de limpiar los outliers de los user_view count me quedo con el 97.1% de los datos usando 2.5-sigma\n"
     ]
    },
    {
     "data": {
      "text/plain": [
       "<AxesSubplot:xlabel='user_view'>"
      ]
     },
     "execution_count": 16,
     "metadata": {},
     "output_type": "execute_result"
    },
    {
     "data": {
      "image/png": "[encoded data removed]",
      "text/plain": [
       "<Figure size 720x576 with 1 Axes>"
      ]
     },
     "metadata": {
      "needs_background": "light"
     },
     "output_type": "display_data"
    }
   ],
   "source": [
    "vdata = clean_outlier(views_data, 'view_count')\n",
    "vrow, vcol = vdata.shape\n",
    "viewsrow, viewscol = views_data.shape\n",
    "\n",
    "print(f'Después de limpiar los outliers de los user_view count me quedo con el {np.round(vrow/viewsrow*100,2)}% de los datos usando 2.5-sigma')\n",
    "\n",
    "item_view_clean = vdata.groupby('row_id')['user_view'].count()\n",
    "fig = plt.figure(figsize=(10,8))\n",
    "sns.boxenplot(data=vdata, x=item_view_clean)"
   ]
  },
  {
   "cell_type": "code",
   "execution_count": null,
   "id": "2d41e4eb-d080-4750-b271-2e5cc050ba47",
   "metadata": {},
   "outputs": [],
   "source": []
  },
  {
   "cell_type": "code",
   "execution_count": 17,
   "id": "304928b4-4fe2-4831-804b-ab0e58e1dc1a",
   "metadata": {},
   "outputs": [
    {
     "name": "stdout",
     "output_type": "stream",
     "text": [
      "Media = 14.738896848137536\n",
      "Mediana = 8.0\n",
      "Std = 18.296991114435688\n"
     ]
    },
    {
     "data": {
      "text/plain": [
       "<AxesSubplot:xlabel='user_view', ylabel='Count'>"
      ]
     },
     "execution_count": 17,
     "metadata": {},
     "output_type": "execute_result"
    },
    {
     "data": {
      "image/png": "[encoded data removed]",
      "text/plain": [
       "<Figure size 720x576 with 1 Axes>"
      ]
     },
     "metadata": {
      "needs_background": "light"
     },
     "output_type": "display_data"
    }
   ],
   "source": [
    "iview_mean = item_view_clean.mean()\n",
    "iview_median = item_view_clean.median()\n",
    "iview_std = item_view_clean.std()\n",
    "print(f'Media = {iview_mean}\\nMediana = {iview_median}\\nStd = {iview_std}')\n",
    "fig = plt.figure(figsize=(10,8))\n",
    "sns.histplot(item_view_clean)"
   ]
  },
  {
   "cell_type": "code",
   "execution_count": 18,
   "id": "649cc07f-b830-4ed9-a0a0-ecb18173051e",
   "metadata": {},
   "outputs": [
    {
     "data": {
      "text/plain": [
       "0.950     53.000\n",
       "0.980     82.000\n",
       "0.990     98.010\n",
       "0.995    117.020\n",
       "0.998    134.804\n",
       "Name: user_view, dtype: float64"
      ]
     },
     "execution_count": 18,
     "metadata": {},
     "output_type": "execute_result"
    }
   ],
   "source": [
    "# veo como queda el views_data usando quantiles\n",
    "number_of_views.quantile([.95, .98, .99, .995, .998])"
   ]
  },
  {
   "cell_type": "code",
   "execution_count": 19,
   "id": "95b1fd78-8d07-4752-a42d-0aaf8570ef64",
   "metadata": {},
   "outputs": [
    {
     "data": {
      "text/plain": [
       "<matplotlib.lines.Line2D at 0x7fd5bebd8820>"
      ]
     },
     "execution_count": 19,
     "metadata": {},
     "output_type": "execute_result"
    },
    {
     "data": {
      "image/png": "[encoded data removed]",
      "text/plain": [
       "<Figure size 720x576 with 1 Axes>"
      ]
     },
     "metadata": {
      "needs_background": "light"
     },
     "output_type": "display_data"
    }
   ],
   "source": [
    "max_limit = number_of_views.quantile(.98)\n",
    "vdata_q = vdata[vdata['view_count'] < max_limit]\n",
    "num_views_q = vdata_q.groupby('row_id')['user_view'].count()\n",
    "fig = plt.figure(figsize=(10,8))\n",
    "sns.boxenplot(x=num_views_q)\n",
    "plt.axvline(num_views_q.mean())"
   ]
  },
  {
   "cell_type": "code",
   "execution_count": 20,
   "id": "a4d806c3-0e5d-44c6-be3c-d852b1c4643c",
   "metadata": {},
   "outputs": [
    {
     "data": {
      "text/plain": [
       "<matplotlib.lines.Line2D at 0x7fd5c0884250>"
      ]
     },
     "execution_count": 20,
     "metadata": {},
     "output_type": "execute_result"
    },
    {
     "data": {
      "image/png": "[encoded data removed]",
      "text/plain": [
       "<Figure size 720x576 with 1 Axes>"
      ]
     },
     "metadata": {
      "needs_background": "light"
     },
     "output_type": "display_data"
    }
   ],
   "source": [
    "fig = plt.figure(figsize=(10,8))\n",
    "sns.histplot(num_views_q)\n",
    "plt.axvline(num_views_q.mean(), color='red')"
   ]
  },
  {
   "cell_type": "code",
   "execution_count": 21,
   "id": "25d08b13-1cbf-4274-972d-8093f41cd0ff",
   "metadata": {},
   "outputs": [
    {
     "name": "stdout",
     "output_type": "stream",
     "text": [
      "Media = 13.263215457528254\n",
      "Mediana = 8.0\n",
      "Std = 14.60553483658683\n"
     ]
    }
   ],
   "source": [
    "# Con esta forma de limpiar los outliers veo las medias, mediana y std\n",
    "numview_q_mean = num_views_q.mean()\n",
    "numview_q_median = num_views_q.median()\n",
    "numview_q_std = num_views_q.std()\n",
    "print(f'Media = {numview_q_mean}\\nMediana = {numview_q_median}\\nStd = {numview_q_std}')"
   ]
  },
  {
   "cell_type": "markdown",
   "id": "3500227f-9740-4641-88ec-8a77ed724391",
   "metadata": {},
   "source": [
    "## ¿Que cantidad de ítems únicos conforman mi target?"
   ]
  },
  {
   "cell_type": "code",
   "execution_count": 22,
   "id": "8221d5a2-52e0-42a0-bb56-90fa42164acb",
   "metadata": {},
   "outputs": [
    {
     "name": "stdout",
     "output_type": "stream",
     "text": [
      "R: La cantidad de items únicos del target son = 19636\n"
     ]
    }
   ],
   "source": [
    "# La mediana no cambió a pesar de que hice una limpieza de outliers, de todos modos trabajo con el dataset limpio por quantiles\n",
    "\n",
    "unique_items = vdata_q['user_view'].nunique()\n",
    "print(f'R: La cantidad de items únicos del target son = {unique_items}')"
   ]
  },
  {
   "cell_type": "markdown",
   "id": "23bf3f0c-d6c7-4644-8521-46a26322bed4",
   "metadata": {},
   "source": [
    "## ¿Cuántos ítems mira un usuario antes de realizar una compra?"
   ]
  },
  {
   "cell_type": "code",
   "execution_count": 23,
   "id": "f14cedee-9bfb-4a60-b6b8-4aa6845c60c0",
   "metadata": {},
   "outputs": [
    {
     "name": "stdout",
     "output_type": "stream",
     "text": [
      "R: La media de items vistos es = 13.26\n",
      "   Mientras que la mediana es = 8.0\n"
     ]
    }
   ],
   "source": [
    "print(f'R: La media de items vistos es = {np.round(numview_q_mean,2)}\\n   Mientras que la mediana es = {numview_q_median}')"
   ]
  },
  {
   "cell_type": "code",
   "execution_count": 24,
   "id": "404116ee-6cff-494d-88d2-ab363b25ffb6",
   "metadata": {},
   "outputs": [
    {
     "data": {
      "text/html": [
       "<div>\n",
       "<style scoped>\n",
       "    .dataframe tbody tr th:only-of-type {\n",
       "        vertical-align: middle;\n",
       "    }\n",
       "\n",
       "    .dataframe tbody tr th {\n",
       "        vertical-align: top;\n",
       "    }\n",
       "\n",
       "    .dataframe thead th {\n",
       "        text-align: right;\n",
       "    }\n",
       "</style>\n",
       "<table border=\"1\" class=\"dataframe\">\n",
       "  <thead>\n",
       "    <tr style=\"text-align: right;\">\n",
       "      <th></th>\n",
       "      <th>row_id</th>\n",
       "      <th>user_search</th>\n",
       "      <th>search_count</th>\n",
       "    </tr>\n",
       "  </thead>\n",
       "  <tbody>\n",
       "    <tr>\n",
       "      <th>0</th>\n",
       "      <td>0</td>\n",
       "      <td>RELOGIO SMARTWATCH</td>\n",
       "      <td>1</td>\n",
       "    </tr>\n",
       "    <tr>\n",
       "      <th>1</th>\n",
       "      <td>1</td>\n",
       "      <td>DESMAMADEIRA ELETRICA</td>\n",
       "      <td>5</td>\n",
       "    </tr>\n",
       "  </tbody>\n",
       "</table>\n",
       "</div>"
      ],
      "text/plain": [
       "   row_id            user_search  search_count\n",
       "0       0     RELOGIO SMARTWATCH             1\n",
       "1       1  DESMAMADEIRA ELETRICA             5"
      ]
     },
     "execution_count": 24,
     "metadata": {},
     "output_type": "execute_result"
    }
   ],
   "source": [
    "#¿Cuántas búsquedas realiza un usuario antes de realizar una compra? \n",
    "# para responder esta pregunta, la única solución que se me ocurrió fue armar un nuevo dataset\n",
    "# solo con las columnas row_id y user_search\n",
    "\n",
    "test_search = pd.DataFrame()\n",
    "test_search['user_search'] = train_data['user_search']\n",
    "test_search = test_search.apply(pd.Series.explode)\n",
    "test_search = test_search.dropna()\n",
    "test_search = test_search.reset_index().rename({'index': 'row_id'}, axis=1)\n",
    "test_search['search_count'] = test_search.groupby('row_id')['user_search'].transform('count')\n",
    "test_search.head(2)"
   ]
  },
  {
   "cell_type": "code",
   "execution_count": 25,
   "id": "127107f5-53ed-4a3b-a1ee-b2805c2c3028",
   "metadata": {},
   "outputs": [
    {
     "data": {
      "text/plain": [
       "<AxesSubplot:xlabel='user_search'>"
      ]
     },
     "execution_count": 25,
     "metadata": {},
     "output_type": "execute_result"
    },
    {
     "data": {
      "image/png": "[encoded data removed]",
      "text/plain": [
       "<Figure size 720x576 with 1 Axes>"
      ]
     },
     "metadata": {
      "needs_background": "light"
     },
     "output_type": "display_data"
    }
   ],
   "source": [
    "# miro un poco el dataset test_search para limpiar los outlier si los hubiera\n",
    "number_of_search = test_search.groupby('row_id')['user_search'].count()\n",
    "fig = plt.figure(figsize=(10,8))\n",
    "sns.boxenplot(data=test_search, x=number_of_search)"
   ]
  },
  {
   "cell_type": "code",
   "execution_count": 26,
   "id": "5cf9d273-23c9-490d-aff8-99336f294268",
   "metadata": {},
   "outputs": [
    {
     "data": {
      "text/plain": [
       "0.950     59.000\n",
       "0.980     82.000\n",
       "0.990     98.000\n",
       "0.995    115.690\n",
       "0.998    139.076\n",
       "Name: user_search, dtype: float64"
      ]
     },
     "execution_count": 26,
     "metadata": {},
     "output_type": "execute_result"
    }
   ],
   "source": [
    "# limpio por quantiles\n",
    "number_of_search.quantile([.95, .98, .99, .995, .998])"
   ]
  },
  {
   "cell_type": "code",
   "execution_count": 27,
   "id": "5ff97231-a2e4-43aa-847b-afdbe5ce020f",
   "metadata": {},
   "outputs": [
    {
     "data": {
      "text/plain": [
       "<matplotlib.lines.Line2D at 0x7fd5c3e34af0>"
      ]
     },
     "execution_count": 27,
     "metadata": {},
     "output_type": "execute_result"
    },
    {
     "data": {
      "image/png": "[encoded data removed]",
      "text/plain": [
       "<Figure size 720x576 with 1 Axes>"
      ]
     },
     "metadata": {
      "needs_background": "light"
     },
     "output_type": "display_data"
    }
   ],
   "source": [
    "max_limit_search = number_of_search.quantile(.98)\n",
    "search_q = test_search[test_search['search_count'] < max_limit_search]\n",
    "num_search_q = search_q.groupby('row_id')['user_search'].count()\n",
    "fig = plt.figure(figsize=(10,8))\n",
    "sns.boxenplot(data=search_q, x=num_search_q)\n",
    "plt.axvline(num_search_q.mean())"
   ]
  },
  {
   "cell_type": "code",
   "execution_count": 28,
   "id": "92d2c3e8-3b26-47b2-b148-b56e6f3f57cb",
   "metadata": {},
   "outputs": [
    {
     "data": {
      "text/plain": [
       "<AxesSubplot:xlabel='user_search', ylabel='Count'>"
      ]
     },
     "execution_count": 28,
     "metadata": {},
     "output_type": "execute_result"
    },
    {
     "data": {
      "image/png": "[encoded data removed]",
      "text/plain": [
       "<Figure size 720x576 with 1 Axes>"
      ]
     },
     "metadata": {
      "needs_background": "light"
     },
     "output_type": "display_data"
    }
   ],
   "source": [
    "fig = plt.figure(figsize=(10,8))\n",
    "sns.histplot(num_search_q, bins=50)"
   ]
  },
  {
   "cell_type": "code",
   "execution_count": null,
   "id": "97456dec-82b8-44e1-ba54-d5708f0d48cb",
   "metadata": {},
   "outputs": [],
   "source": []
  },
  {
   "cell_type": "markdown",
   "id": "e11c7bad-27f1-4a44-a090-cf26ef223c68",
   "metadata": {},
   "source": [
    "## ¿Cuántas búsquedas realiza un usuario antes de realizar una compra? "
   ]
  },
  {
   "cell_type": "code",
   "execution_count": 29,
   "id": "d7284295-d1c2-4629-b6a4-c645eb2b8666",
   "metadata": {},
   "outputs": [
    {
     "name": "stdout",
     "output_type": "stream",
     "text": [
      "R: Media de búsquedas = 15.51\n",
      "   Mediana de búsquedas = 9.0\n"
     ]
    }
   ],
   "source": [
    "search_mean = num_search_q.mean()\n",
    "search_median = num_search_q.median()\n",
    "search_std = num_search_q.std()\n",
    "print(f'R: Media de búsquedas = {np.round(search_mean,2)}\\n   Mediana de búsquedas = {np.round(search_median,2)}')"
   ]
  },
  {
   "cell_type": "markdown",
   "id": "69b283c0-7805-48d9-ba41-9c863b3a3c2d",
   "metadata": {},
   "source": [
    "## ¿Qué proporción de los ítems vistos corresponden a la categoría del ítem finalmente comprado? (dudas)"
   ]
  },
  {
   "cell_type": "code",
   "execution_count": 30,
   "id": "2fed7039-3ff9-4497-8262-e1d786389d51",
   "metadata": {},
   "outputs": [
    {
     "data": {
      "text/plain": [
       "0.5440406903305318"
      ]
     },
     "execution_count": 30,
     "metadata": {},
     "output_type": "execute_result"
    }
   ],
   "source": [
    "cat_unique = vdata.groupby('row_id')['category_id'].nunique()\n",
    "bought_unique = vdata.groupby('row_id')['bought_category_id'].nunique()\n",
    "prop = bought_unique/cat_unique\n",
    "prop.mean()\n",
    "# fig = plt.figure(figsize=(10,8))\n",
    "# sns.barplot(y=prop)\n",
    "# sns.barplot(y=cat_unique)\n"
   ]
  },
  {
   "cell_type": "markdown",
   "id": "362e94f1-a4a4-4f47-a022-1937b72f0d5a",
   "metadata": {},
   "source": [
    "## ¿Cuántas categorías recorre un usuario hasta comprar un item?"
   ]
  },
  {
   "cell_type": "code",
   "execution_count": 31,
   "id": "1f49f28d-d5c0-403f-bed5-fe359bd9857b",
   "metadata": {},
   "outputs": [
    {
     "data": {
      "text/plain": [
       "(3.4258595988538683, 2.0)"
      ]
     },
     "execution_count": 31,
     "metadata": {},
     "output_type": "execute_result"
    }
   ],
   "source": [
    "cat_unique.mean(),cat_unique.median()"
   ]
  },
  {
   "cell_type": "markdown",
   "id": "5bb19718-cb8d-4e6e-ad63-87a6710af45a",
   "metadata": {},
   "source": [
    "## ¿Cómo se relacionan los precios de los ítems vistos con el ítem comprado?"
   ]
  },
  {
   "cell_type": "code",
   "execution_count": 39,
   "id": "ddd8ac54-5f92-4a28-82f1-306b38c201ee",
   "metadata": {},
   "outputs": [
    {
     "data": {
      "text/plain": [
       "0.3669715900265662"
      ]
     },
     "execution_count": 39,
     "metadata": {},
     "output_type": "execute_result"
    }
   ],
   "source": [
    "price_unique = vdata_q.groupby('row_id')['price'].nunique()\n",
    "bought_price_unique = vdata_q.groupby('row_id')['bought_price'].nunique()\n",
    "prop_price = bought_price_unique/price_unique\n",
    "prop_price.mean()"
   ]
  },
  {
   "cell_type": "markdown",
   "id": "cbf618fa-18d3-4025-95aa-664524d40ab9",
   "metadata": {},
   "source": [
    "## ¿Cuántas veces aparece el ítem comprado en nuestro historial de navegación?"
   ]
  },
  {
   "cell_type": "code",
   "execution_count": 52,
   "id": "b2af15ad-af96-422a-98aa-fecd792bd362",
   "metadata": {},
   "outputs": [
    {
     "data": {
      "text/plain": [
       "(3534, 32847)"
      ]
     },
     "execution_count": 52,
     "metadata": {},
     "output_type": "execute_result"
    }
   ],
   "source": [
    "# appear_count = vdata_q[vdata_q['user_view'] == vdata_q['item_bought']]\n",
    "# a = appear_count.groupby('row_id')['item_bought'].count()\n",
    "# a.sum(), appear_count.shape\n",
    "match_appear_count = sum(vdata_q.user_view == vdata_q.item_bought)\n",
    "unmatch_appear_count = sum(vdata_q.user_view != vdata_q.item_bought)\n",
    "match_appear_count, unmatch_appear_count"
   ]
  },
  {
   "cell_type": "code",
   "execution_count": null,
   "id": "617bfa90-894c-4707-86ba-5d5a85eeaa5c",
   "metadata": {},
   "outputs": [],
   "source": []
  }
 ],
 "metadata": {
  "kernelspec": {
   "display_name": "Python 3",
   "language": "python",
   "name": "python3"
  },
  "language_info": {
   "codemirror_mode": {
    "name": "ipython",
    "version": 3
   },
   "file_extension": ".py",
   "mimetype": "text/x-python",
   "name": "python",
   "nbconvert_exporter": "python",
   "pygments_lexer": "ipython3",
   "version": "3.8.5"
  }
 },
 "nbformat": 4,
 "nbformat_minor": 5
}
