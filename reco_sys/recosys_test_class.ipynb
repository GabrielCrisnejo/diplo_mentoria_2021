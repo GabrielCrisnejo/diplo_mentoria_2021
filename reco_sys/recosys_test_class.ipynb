{
 "cells": [
  {
   "cell_type": "markdown",
   "id": "dc0f30e9-e500-46b3-8626-7a84a3f4813c",
   "metadata": {
    "id": "dc0f30e9-e500-46b3-8626-7a84a3f4813c",
    "slideshow": {
     "slide_type": "slide"
    },
    "tags": []
   },
   "source": [
    "# Predecir próxima compra de un usuario de MercadoLibre"
   ]
  },
  {
   "cell_type": "code",
   "execution_count": 1,
   "id": "cd1b8e94",
   "metadata": {},
   "outputs": [],
   "source": [
    "%load_ext autoreload"
   ]
  },
  {
   "cell_type": "code",
   "execution_count": 2,
   "id": "46b23094",
   "metadata": {},
   "outputs": [],
   "source": [
    "%autoreload 2"
   ]
  },
  {
   "cell_type": "code",
   "execution_count": 151,
   "id": "87f56d6b-5abd-4857-b7ca-5037482096e5",
   "metadata": {
    "id": "87f56d6b-5abd-4857-b7ca-5037482096e5",
    "slideshow": {
     "slide_type": "skip"
    }
   },
   "outputs": [],
   "source": [
    "import numpy as np\n",
    "import pandas as pd\n",
    "import matplotlib.pyplot as plt\n",
    "import seaborn as sns\n",
    "import os\n",
    "import json\n",
    "import random\n",
    "from datetime import datetime\n",
    "from reco import RecoSys\n",
    "from reco import AutoReco\n",
    "\n",
    "from gensim.models import Word2Vec \n",
    "from gensim.utils import simple_preprocess\n",
    "from gensim.utils import deaccent\n",
    "from gensim.models import KeyedVectors\n",
    "import json\n",
    "import time"
   ]
  },
  {
   "cell_type": "code",
   "execution_count": 4,
   "id": "d24b0052",
   "metadata": {},
   "outputs": [],
   "source": [
    "# # Load y_test\n",
    "# y_test = pd.read_csv('test_data.csv')\n",
    "\n",
    "# # Load user_search list to train the model\n",
    "# with open('user_search.txt','r') as infile:\n",
    "#      user_search = json.load(infile)\n",
    "\n",
    "# # Load test user search\n",
    "# with open('user_search_test_void.txt','r') as infile:\n",
    "#      user_search_test = json.load(infile)\n",
    "\n",
    "# # Load train words, it is the concatenation of item views titles and unique user searchs\n",
    "# with open('train_words.txt', 'r') as infile:\n",
    "#     train_words = json.load(infile)\n",
    "\n",
    "# Load items view titles\n",
    "with open(\"item_title.txt\", \"r\") as infile:\n",
    "    items_title = json.load(infile)\n",
    "\n",
    "# # Load item bought id\n",
    "# with open('bouid_void.txt','r') as infile:\n",
    "#      bouid = json.load(infile)\n",
    "\n",
    "# # Load item bought title\n",
    "# with open('item_bought_void.txt','r') as infile:\n",
    "#      item_bought = json.load(infile)\n",
    "\n",
    "# Load metadata \n",
    "with open('metadata.txt','r') as infile:\n",
    "     metadata = json.load(infile)\n",
    "\n",
    "# Load recommendation test dictionary \n",
    "with open('reco_test.txt','r') as infile:\n",
    "     reco_test = json.load(infile)"
   ]
  },
  {
   "cell_type": "code",
   "execution_count": 58,
   "id": "058ac4eb",
   "metadata": {},
   "outputs": [],
   "source": [
    "# Load recommendation test dictionary \n",
    "with open('reco_test_wid.txt','r') as infile:\n",
    "     reco_test_wid = json.load(infile)"
   ]
  },
  {
   "cell_type": "code",
   "execution_count": 5,
   "id": "2f0505d3",
   "metadata": {},
   "outputs": [],
   "source": [
    "# Load W2V model\n",
    "model = Word2Vec.load(\"reco_userview_search_trained.model\")"
   ]
  },
  {
   "cell_type": "code",
   "execution_count": 155,
   "id": "387cdaa3",
   "metadata": {},
   "outputs": [
    {
     "name": "stdout",
     "output_type": "stream",
     "text": [
      "Loop 10 took 1.674 minutes10 items took 47.256 minutes to find recommendation list\n"
     ]
    }
   ],
   "source": [
    "max_sample = 10\n",
    "auto_rec = AutoReco(max_sample, 0, model, reco_test_wid, items_title)\n",
    "auto_rec.reco_func()"
   ]
  },
  {
   "cell_type": "code",
   "execution_count": 163,
   "id": "f846e34b",
   "metadata": {},
   "outputs": [
    {
     "data": {
      "text/plain": [
       "dict_keys(['18999', '5475', '1119', '20102', '27770', '24850', '23467', '8539', '12582', '17523'])"
      ]
     },
     "execution_count": 163,
     "metadata": {},
     "output_type": "execute_result"
    }
   ],
   "source": [
    "users_recom = auto_rec.reco_list.keys()\n",
    "users_recom"
   ]
  },
  {
   "cell_type": "code",
   "execution_count": 166,
   "id": "9e7b3d07",
   "metadata": {},
   "outputs": [],
   "source": [
    "user_true_bought = [reco_test_wid[user]['item_bought'] for user in users_recom]\n",
    "del user_true_bought[2]"
   ]
  },
  {
   "cell_type": "code",
   "execution_count": 168,
   "id": "412c76c1",
   "metadata": {},
   "outputs": [],
   "source": [
    "user_pred = [auto_rec.reco_list[user] for user in users_recom]\n",
    "del user_pred[2]"
   ]
  },
  {
   "cell_type": "code",
   "execution_count": 174,
   "id": "9da02ad1-73f9-4f10-a621-2c272a421e56",
   "metadata": {
    "id": "9da02ad1-73f9-4f10-a621-2c272a421e56"
   },
   "outputs": [],
   "source": [
    "def ndcg(y_pred, y_true):\n",
    "    'Basada en el video de la presentación del challenge'\n",
    "    dcg = 0\n",
    "    idcg = 22.42461597 * len(y_true)\n",
    "    for pred, true in zip(y_pred, y_true):\n",
    "        position = 1\n",
    "        for item in pred:\n",
    "            if item == true:\n",
    "                dcg += 12 / (np.log(1 + position))\n",
    "            elif metadata[item]['domain_id'] == metadata[str(true)]['domain_id']:\n",
    "                dcg += 1 / (np.log(1 + position))\n",
    "            position += 1\n",
    "    score = dcg / idcg\n",
    "    \n",
    "    return score"
   ]
  },
  {
   "cell_type": "code",
   "execution_count": 175,
   "id": "2d01475d",
   "metadata": {},
   "outputs": [
    {
     "data": {
      "text/plain": [
       "0.025689319321634242"
      ]
     },
     "execution_count": 175,
     "metadata": {},
     "output_type": "execute_result"
    }
   ],
   "source": [
    "ndcg(user_pred, user_true_bought)"
   ]
  },
  {
   "cell_type": "code",
   "execution_count": null,
   "id": "98b9da8f",
   "metadata": {},
   "outputs": [],
   "source": []
  },
  {
   "cell_type": "code",
   "execution_count": null,
   "id": "1a1358f6",
   "metadata": {},
   "outputs": [],
   "source": []
  },
  {
   "cell_type": "code",
   "execution_count": null,
   "id": "1df9256a",
   "metadata": {},
   "outputs": [],
   "source": []
  },
  {
   "cell_type": "code",
   "execution_count": null,
   "id": "5157c4e7",
   "metadata": {},
   "outputs": [],
   "source": []
  }
 ],
 "metadata": {
  "celltoolbar": "Slideshow",
  "colab": {
   "collapsed_sections": [],
   "name": "recosys_colab.ipynb",
   "provenance": []
  },
  "kernelspec": {
   "display_name": "Python 3",
   "language": "python",
   "name": "python3"
  },
  "language_info": {
   "codemirror_mode": {
    "name": "ipython",
    "version": 3
   },
   "file_extension": ".py",
   "mimetype": "text/x-python",
   "name": "python",
   "nbconvert_exporter": "python",
   "pygments_lexer": "ipython3",
   "version": "3.8.5"
  }
 },
 "nbformat": 4,
 "nbformat_minor": 5
}
